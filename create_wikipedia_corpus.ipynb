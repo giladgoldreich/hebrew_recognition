{
 "cells": [
  {
   "cell_type": "code",
   "execution_count": 65,
   "metadata": {},
   "outputs": [
    {
     "name": "stdout",
     "output_type": "stream",
     "text": [
      "Requirement already satisfied: wikipedia in /Users/giladgoldreich/Documents/675/document_ocr/detrex-ocr/.conda/lib/python3.9/site-packages (1.4.0)\n",
      "Requirement already satisfied: beautifulsoup4 in /Users/giladgoldreich/Documents/675/document_ocr/detrex-ocr/.conda/lib/python3.9/site-packages (from wikipedia) (4.12.3)\n",
      "Requirement already satisfied: requests<3.0.0,>=2.0.0 in /Users/giladgoldreich/Documents/675/document_ocr/detrex-ocr/.conda/lib/python3.9/site-packages (from wikipedia) (2.32.3)\n",
      "Requirement already satisfied: charset-normalizer<4,>=2 in /Users/giladgoldreich/Documents/675/document_ocr/detrex-ocr/.conda/lib/python3.9/site-packages (from requests<3.0.0,>=2.0.0->wikipedia) (3.3.2)\n",
      "Requirement already satisfied: idna<4,>=2.5 in /Users/giladgoldreich/Documents/675/document_ocr/detrex-ocr/.conda/lib/python3.9/site-packages (from requests<3.0.0,>=2.0.0->wikipedia) (3.7)\n",
      "Requirement already satisfied: urllib3<3,>=1.21.1 in /Users/giladgoldreich/Documents/675/document_ocr/detrex-ocr/.conda/lib/python3.9/site-packages (from requests<3.0.0,>=2.0.0->wikipedia) (2.2.1)\n",
      "Requirement already satisfied: certifi>=2017.4.17 in /Users/giladgoldreich/Documents/675/document_ocr/detrex-ocr/.conda/lib/python3.9/site-packages (from requests<3.0.0,>=2.0.0->wikipedia) (2024.6.2)\n",
      "Requirement already satisfied: soupsieve>1.2 in /Users/giladgoldreich/Documents/675/document_ocr/detrex-ocr/.conda/lib/python3.9/site-packages (from beautifulsoup4->wikipedia) (2.5)\n",
      "\u001b[33mDEPRECATION: omegaconf 2.1.0 has a non-standard dependency specifier PyYAML>=5.1.*. pip 24.1 will enforce this behaviour change. A possible replacement is to upgrade to a newer version of omegaconf or contact the author to suggest that they release a version with a conforming dependency specifiers. Discussion can be found at https://github.com/pypa/pip/issues/12063\u001b[0m\u001b[33m\n",
      "\u001b[0mCollecting retry\n",
      "  Downloading retry-0.9.2-py2.py3-none-any.whl.metadata (5.8 kB)\n",
      "Requirement already satisfied: decorator>=3.4.2 in /Users/giladgoldreich/Documents/675/document_ocr/detrex-ocr/.conda/lib/python3.9/site-packages (from retry) (5.1.1)\n",
      "Collecting py<2.0.0,>=1.4.26 (from retry)\n",
      "  Downloading py-1.11.0-py2.py3-none-any.whl.metadata (2.8 kB)\n",
      "Downloading retry-0.9.2-py2.py3-none-any.whl (8.0 kB)\n",
      "Downloading py-1.11.0-py2.py3-none-any.whl (98 kB)\n",
      "\u001b[2K   \u001b[90m━━━━━━━━━━━━━━━━━━━━━━━━━━━━━━━━━━━━━━━━\u001b[0m \u001b[32m98.7/98.7 kB\u001b[0m \u001b[31m187.3 kB/s\u001b[0m eta \u001b[36m0:00:00\u001b[0ma \u001b[36m0:00:01\u001b[0m\n",
      "\u001b[?25h\u001b[33mDEPRECATION: omegaconf 2.1.0 has a non-standard dependency specifier PyYAML>=5.1.*. pip 24.1 will enforce this behaviour change. A possible replacement is to upgrade to a newer version of omegaconf or contact the author to suggest that they release a version with a conforming dependency specifiers. Discussion can be found at https://github.com/pypa/pip/issues/12063\u001b[0m\u001b[33m\n",
      "\u001b[0mInstalling collected packages: py, retry\n",
      "Successfully installed py-1.11.0 retry-0.9.2\n"
     ]
    }
   ],
   "source": [
    "!pip install wikipedia\n",
    "!pip install retry"
   ]
  },
  {
   "cell_type": "code",
   "execution_count": 80,
   "metadata": {},
   "outputs": [],
   "source": [
    "import wikipedia\n",
    "from tqdm import tqdm\n",
    "from tqdm.contrib.concurrent import thread_map, process_map\n",
    "from typing import List\n",
    "from functools import partial\n",
    "from itertools import chain\n",
    "from retry import retry\n",
    "import logging"
   ]
  },
  {
   "cell_type": "code",
   "execution_count": 87,
   "metadata": {},
   "outputs": [],
   "source": [
    "def get_random_page_content(bla: int = 1) -> List[str]:\n",
    "    \n",
    "    @retry(tries=3, delay=1)    \n",
    "    def __inner():\n",
    "        page_title = wikipedia.random(1)\n",
    "        page_content = wikipedia.page(page_title).summary            \n",
    "        processed_content = page_content.replace(\"\\n\", \" \").split(\". \")\n",
    "        return processed_content\n",
    "    try:\n",
    "        return __inner()\n",
    "    except Exception as e:\n",
    "        print(f'failed due to {e}')\n",
    "        return []"
   ]
  },
  {
   "cell_type": "code",
   "execution_count": 88,
   "metadata": {},
   "outputs": [],
   "source": [
    "wikipedia.set_lang('he')"
   ]
  },
  {
   "cell_type": "code",
   "execution_count": 89,
   "metadata": {},
   "outputs": [
    {
     "name": "stdout",
     "output_type": "stream",
     "text": [
      "פרדריק פלמר (באנגלית: Frederick Palmer;‏ 31 בינואר 1862 – 7 באפריל 1934) היה מהנדס בריטי שתכנן את נמל חיפה.\n"
     ]
    }
   ],
   "source": [
    "print('\\n'.join(get_random_page_content()))"
   ]
  },
  {
   "cell_type": "code",
   "execution_count": 92,
   "metadata": {},
   "outputs": [
    {
     "name": "stderr",
     "output_type": "stream",
     "text": [
      "0:   0%|          | 0/1000 [00:00<?, ?it/s]/Users/giladgoldreich/Documents/675/document_ocr/detrex-ocr/.conda/lib/python3.9/site-packages/wikipedia/wikipedia.py:389: GuessedAtParserWarning: No parser was explicitly specified, so I'm using the best available HTML parser for this system (\"lxml\"). This usually isn't a problem, but if you run this code on another system, or in a different virtual environment, it may use a different parser and behave differently.\n",
      "\n",
      "The code that caused this warning is on line 389 of the file /Users/giladgoldreich/Documents/675/document_ocr/detrex-ocr/.conda/lib/python3.9/site-packages/wikipedia/wikipedia.py. To get rid of this warning, pass the additional argument 'features=\"lxml\"' to the BeautifulSoup constructor.\n",
      "\n",
      "  lis = BeautifulSoup(html).find_all('li')\n",
      "0:   9%|▉         | 91/1000 [00:24<10:16,  1.47it/s] "
     ]
    },
    {
     "name": "stdout",
     "output_type": "stream",
     "text": [
      "failed due to \"בלקין\" may refer to: \n",
      "סנאי\n",
      "אבי בלקין (תסריטאי)\n",
      "אבי בלקין (במאי)\n",
      "אהובה בלקין\n",
      "בוריס בלקין\n",
      "ירחמיאל בלקין\n",
      "פסח בלקין\n",
      "רוני בלקין\n",
      "שמואל בלקין\n",
      "בלקינד\n",
      "דפים ששמם מתחיל ב”בלקין“\n",
      "דפים ששמם מכיל ”בלקין“\n",
      "חיפוש ”בלקין“ בוויקיפדיה\n"
     ]
    },
    {
     "name": "stderr",
     "output_type": "stream",
     "text": [
      "0: 100%|██████████| 1000/1000 [03:10<00:00,  5.25it/s]\n",
      "1:  12%|█▏        | 121/1000 [00:23<02:08,  6.85it/s]"
     ]
    }
   ],
   "source": [
    "for i in range(1000):\n",
    "    contents = thread_map(get_random_page_content, range(1000), disable=False, desc=str(i))\n",
    "    with open('./corpuses/wikipedia.txt', 'w+') as f:\n",
    "        f.writelines('\\n'.join(chain.from_iterable(contents)))"
   ]
  },
  {
   "cell_type": "code",
   "execution_count": null,
   "metadata": {},
   "outputs": [],
   "source": []
  }
 ],
 "metadata": {
  "kernelspec": {
   "display_name": "Python 3.9.19 (conda)",
   "language": "python",
   "name": "python3"
  },
  "language_info": {
   "codemirror_mode": {
    "name": "ipython",
    "version": 3
   },
   "file_extension": ".py",
   "mimetype": "text/x-python",
   "name": "python",
   "nbconvert_exporter": "python",
   "pygments_lexer": "ipython3",
   "version": "3.9.19"
  },
  "orig_nbformat": 4,
  "vscode": {
   "interpreter": {
    "hash": "4e5c205762e7b134e8a0d935aa7eeebff215bbf100634a48fd924bf053a1bd65"
   }
  }
 },
 "nbformat": 4,
 "nbformat_minor": 2
}
